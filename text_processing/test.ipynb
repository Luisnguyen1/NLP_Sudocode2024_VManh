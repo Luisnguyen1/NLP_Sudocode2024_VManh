from transformers import AutoTokenizer

tokenizer = AutoTokenizer.from_pretrained("bert-base-cased")
input = tokenizer("Phai tach dong cac ki tu nay thanh kieu subword!")


print(input)